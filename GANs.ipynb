{
  "nbformat": 4,
  "nbformat_minor": 0,
  "metadata": {
    "colab": {
      "name": "GANs.ipynb",
      "provenance": [],
      "collapsed_sections": []
    },
    "kernelspec": {
      "name": "python3",
      "display_name": "Python 3"
    },
    "language_info": {
      "name": "python"
    },
    "accelerator": "GPU"
  },
  "cells": [
    {
      "cell_type": "markdown",
      "metadata": {
        "id": "AXmrtgOz4T3d"
      },
      "source": [
        "##Initialisations\n"
      ]
    },
    {
      "cell_type": "code",
      "metadata": {
        "id": "x3lgFhXqSCuB"
      },
      "source": [
        "# Nicely formatted time string\n",
        "def hms_string(sec_elapsed):\n",
        "    h = int(sec_elapsed / (60 * 60))\n",
        "    m = int((sec_elapsed % (60 * 60)) / 60)\n",
        "    s = sec_elapsed % 60\n",
        "    return \"{}:{:>02}:{:>05.2f}\".format(h, m, s)"
      ],
      "execution_count": 1,
      "outputs": []
    },
    {
      "cell_type": "code",
      "metadata": {
        "colab": {
          "base_uri": "https://localhost:8080/"
        },
        "id": "qOrvZdkJVBMS",
        "outputId": "e7ae7424-3ece-40ae-9eb7-32a230ae054a"
      },
      "source": [
        "try:\n",
        "    from google.colab import drive\n",
        "    drive.mount('/content/drive', force_remount=True)\n",
        "    COLAB = True\n",
        "    print(\"Note: using Google CoLab\")\n",
        "    %tensorflow_version 2.x\n",
        "except:\n",
        "    print(\"Note: not using Google CoLab\")\n",
        "    COLAB = False"
      ],
      "execution_count": 2,
      "outputs": [
        {
          "output_type": "stream",
          "text": [
            "Mounted at /content/drive\n",
            "Note: using Google CoLab\n"
          ],
          "name": "stdout"
        }
      ]
    },
    {
      "cell_type": "code",
      "metadata": {
        "id": "GWvmqRshVN6b"
      },
      "source": [
        "import tensorflow as tf\n",
        "from tensorflow.keras.layers import Input, Reshape, Dropout, Dense \n",
        "from tensorflow.keras.layers import Flatten, BatchNormalization\n",
        "from tensorflow.keras.layers import Activation, ZeroPadding2D\n",
        "from tensorflow.keras.layers import LeakyReLU\n",
        "from tensorflow.keras.layers import UpSampling2D, Conv2D\n",
        "from tensorflow.keras.models import Sequential, Model, load_model\n",
        "from tensorflow.keras.optimizers import Adam\n",
        "import numpy as np\n",
        "from PIL import Image\n",
        "from tqdm import tqdm\n",
        "import os \n",
        "import time\n",
        "import matplotlib.pyplot as plt"
      ],
      "execution_count": 3,
      "outputs": []
    },
    {
      "cell_type": "markdown",
      "metadata": {
        "id": "QigRdxkz4cFs"
      },
      "source": [
        "## Getting training data"
      ]
    },
    {
      "cell_type": "code",
      "metadata": {
        "colab": {
          "base_uri": "https://localhost:8080/"
        },
        "id": "p7ar83cxVXcz",
        "outputId": "ba454b63-0797-4017-d1fd-8f1b003c1e12"
      },
      "source": [
        "# Generation resolution - Must be square \n",
        "# Training data is also scaled to this.\n",
        "# Note GENERATE_RES 4 or higher  \n",
        "# will blow Google CoLab's memory and have not\n",
        "# been tested extensivly.\n",
        "GENERATE_RES = 3 # Generation resolution factor \n",
        "# (1=32, 2=64, 3=96, 4=128, etc.)\n",
        "GENERATE_SQUARE = 32 * GENERATE_RES # rows/cols (should be square)\n",
        "IMAGE_CHANNELS = 3\n",
        "\n",
        "# Preview image \n",
        "PREVIEW_ROWS = 4\n",
        "PREVIEW_COLS = 7\n",
        "PREVIEW_MARGIN = 16\n",
        "\n",
        "# Size vector to generate images from\n",
        "SEED_SIZE = 100\n",
        "\n",
        "# Configuration\n",
        "#link for dataset : https://www.kaggle.com/gasgallo/faces-data-new\n",
        "DATA_PATH = '/content/drive/MyDrive/archive.zip (Unzipped Files)/images/images'\n",
        "EPOCHS = 50\n",
        "BATCH_SIZE = 32\n",
        "BUFFER_SIZE = 60000\n",
        "\n",
        "print(f\"Will generate {GENERATE_SQUARE}px square images.\")"
      ],
      "execution_count": 4,
      "outputs": [
        {
          "output_type": "stream",
          "text": [
            "Will generate 96px square images.\n"
          ],
          "name": "stdout"
        }
      ]
    },
    {
      "cell_type": "code",
      "metadata": {
        "colab": {
          "base_uri": "https://localhost:8080/"
        },
        "id": "-8o0R1qBDqEP",
        "outputId": "71b77f0d-67cd-41fe-b622-d0c4a21927c2"
      },
      "source": [
        "# Image set has 11,682 images.  Can take over an hour \n",
        "# for initial preprocessing.\n",
        "# Because of this time needed, save a Numpy preprocessed file.\n",
        "# Note, that file is large enough to cause problems for \n",
        "# sume verisons of Pickle,\n",
        "# so Numpy binary files are used.\n",
        "training_binary_path = os.path.join(DATA_PATH,\n",
        "        f'training_data_{GENERATE_SQUARE}_{GENERATE_SQUARE}.npy')\n",
        "\n",
        "print(f\"Looking for file: {training_binary_path}\")\n",
        "\n",
        "if not os.path.isfile(training_binary_path):\n",
        "  start = time.time()\n",
        "  print(\"Loading training images...\")\n",
        "\n",
        "  training_data = []\n",
        "  #faces_path = os.path.join(DATA_PATH,'face_images')\n",
        "  faces_path = DATA_PATH\n",
        "  for filename in tqdm(os.listdir(faces_path)):\n",
        "      #print(filename)\n",
        "      path = os.path.join(faces_path,filename)\n",
        "      image = Image.open(path).resize((GENERATE_SQUARE,\n",
        "            GENERATE_SQUARE),Image.ANTIALIAS)\n",
        "      training_data.append(np.asarray(image))\n",
        "  training_data = np.reshape(training_data,(-1,GENERATE_SQUARE,\n",
        "            GENERATE_SQUARE,IMAGE_CHANNELS))\n",
        "  training_data = training_data.astype(np.float32)\n",
        "  training_data = training_data / 127.5 - 1.\n",
        "\n",
        "\n",
        "  print(\"Saving training image binary...\")\n",
        "  np.save(training_binary_path,training_data)\n",
        "  elapsed = time.time()-start\n",
        "  print (f'Image preprocess time: {hms_string(elapsed)}')\n",
        "else:\n",
        "  print(\"Loading previous training pickle...\")\n",
        "  training_data = np.load(training_binary_path)"
      ],
      "execution_count": 5,
      "outputs": [
        {
          "output_type": "stream",
          "text": [
            "Looking for file: /content/drive/MyDrive/archive.zip (Unzipped Files)/images/images/training_data_96_96.npy\n",
            "Loading training images...\n"
          ],
          "name": "stdout"
        },
        {
          "output_type": "stream",
          "text": [
            "100%|██████████| 7865/7865 [29:25<00:00,  4.45it/s]\n"
          ],
          "name": "stderr"
        },
        {
          "output_type": "stream",
          "text": [
            "Saving training image binary...\n",
            "Image preprocess time: 0:29:30.35\n"
          ],
          "name": "stdout"
        }
      ]
    },
    {
      "cell_type": "code",
      "metadata": {
        "colab": {
          "base_uri": "https://localhost:8080/"
        },
        "id": "w6eROlTcHFc3",
        "outputId": "a9625ea3-c11e-4742-e4f3-9fee365384af"
      },
      "source": [
        "print(training_data)"
      ],
      "execution_count": 6,
      "outputs": [
        {
          "output_type": "stream",
          "text": [
            "[[[[-0.30196077 -0.6313726  -0.81960785]\n",
            "   [-0.30196077 -0.6313726  -0.81960785]\n",
            "   [-0.30196077 -0.6313726  -0.81960785]\n",
            "   ...\n",
            "   [-0.38039213 -0.654902   -0.81960785]\n",
            "   [-0.372549   -0.6784314  -0.8117647 ]\n",
            "   [-0.38039213 -0.6862745  -0.81960785]]\n",
            "\n",
            "  [[-0.31764704 -0.64705884 -0.8352941 ]\n",
            "   [-0.3098039  -0.6392157  -0.827451  ]\n",
            "   [-0.30196077 -0.62352943 -0.8117647 ]\n",
            "   ...\n",
            "   [-0.38039213 -0.654902   -0.81960785]\n",
            "   [-0.372549   -0.6627451  -0.8117647 ]\n",
            "   [-0.38039213 -0.67058825 -0.81960785]]\n",
            "\n",
            "  [[-0.32549018 -0.6392157  -0.8352941 ]\n",
            "   [-0.31764704 -0.6313726  -0.827451  ]\n",
            "   [-0.30196077 -0.62352943 -0.8117647 ]\n",
            "   ...\n",
            "   [-0.38039213 -0.654902   -0.81960785]\n",
            "   [-0.38823527 -0.64705884 -0.8039216 ]\n",
            "   [-0.3960784  -0.6627451  -0.81960785]]\n",
            "\n",
            "  ...\n",
            "\n",
            "  [[-0.49019605 -0.73333335 -0.8745098 ]\n",
            "   [-0.4823529  -0.73333335 -0.85882354]\n",
            "   [-0.49019605 -0.7254902  -0.8509804 ]\n",
            "   ...\n",
            "   [-0.8666667  -0.8745098  -0.8901961 ]\n",
            "   [-0.92941177 -0.9137255  -0.9607843 ]\n",
            "   [-0.94509804 -0.9372549  -0.9764706 ]]\n",
            "\n",
            "  [[-0.4823529  -0.7254902  -0.8745098 ]\n",
            "   [-0.47450978 -0.7176471  -0.85882354]\n",
            "   [-0.4823529  -0.7176471  -0.8509804 ]\n",
            "   ...\n",
            "   [-0.8509804  -0.85882354 -0.8745098 ]\n",
            "   [-0.9137255  -0.90588236 -0.94509804]\n",
            "   [-0.9372549  -0.92941177 -0.96862745]]\n",
            "\n",
            "  [[-0.46666664 -0.70980394 -0.8666667 ]\n",
            "   [-0.46666664 -0.70980394 -0.85882354]\n",
            "   [-0.4823529  -0.7176471  -0.8666667 ]\n",
            "   ...\n",
            "   [-0.8509804  -0.85882354 -0.8745098 ]\n",
            "   [-0.9137255  -0.90588236 -0.94509804]\n",
            "   [-0.9372549  -0.92941177 -0.96862745]]]\n",
            "\n",
            "\n",
            " [[[ 0.05098045  0.11372554 -0.05098039]\n",
            "   [ 0.05098045  0.11372554 -0.05098039]\n",
            "   [ 0.04313731  0.10588241 -0.05882353]\n",
            "   ...\n",
            "   [ 0.05098045  0.082353   -0.05098039]\n",
            "   [ 0.05882359  0.09803927 -0.05882353]\n",
            "   [ 0.07450986  0.11372554 -0.05098039]]\n",
            "\n",
            "  [[ 0.04313731  0.10588241 -0.08235294]\n",
            "   [ 0.05098045  0.11372554 -0.0745098 ]\n",
            "   [ 0.04313731  0.10588241 -0.08235294]\n",
            "   ...\n",
            "   [ 0.02745104  0.05882359 -0.0745098 ]\n",
            "   [ 0.02745104  0.06666672 -0.09019607]\n",
            "   [ 0.05098045  0.09019613 -0.06666666]]\n",
            "\n",
            "  [[ 0.05882359  0.12941182 -0.09019607]\n",
            "   [ 0.06666672  0.13725495 -0.0745098 ]\n",
            "   [ 0.07450986  0.14509809 -0.0745098 ]\n",
            "   ...\n",
            "   [ 0.05882359  0.09019613 -0.04313725]\n",
            "   [ 0.05098045  0.09019613 -0.06666666]\n",
            "   [ 0.05882359  0.09803927 -0.05882353]]\n",
            "\n",
            "  ...\n",
            "\n",
            "  [[-0.6        -0.56078434 -0.42745095]\n",
            "   [-0.47450978 -0.4352941  -0.32549018]\n",
            "   [ 0.082353    0.12941182  0.19215691]\n",
            "   ...\n",
            "   [ 0.52156866  0.5921569   1.        ]\n",
            "   [ 0.4666667   0.5764706   0.8901961 ]\n",
            "   [ 0.6392157   0.7490196   0.9529412 ]]\n",
            "\n",
            "  [[-0.5294118  -0.45098037 -0.3960784 ]\n",
            "   [-0.08235294 -0.00392157  0.04313731]\n",
            "   [ 0.37254906  0.45098042  0.47450984]\n",
            "   ...\n",
            "   [ 0.54509807  0.6627451   1.        ]\n",
            "   [ 0.4039216   0.58431375  0.8901961 ]\n",
            "   [ 0.427451    0.6156863   0.94509804]]\n",
            "\n",
            "  [[-0.372549   -0.2862745  -0.23921567]\n",
            "   [ 0.18431377  0.27058828  0.30196083]\n",
            "   [ 0.30980396  0.39607847  0.41176474]\n",
            "   ...\n",
            "   [ 0.45098042  0.5686275   0.9607843 ]\n",
            "   [ 0.4431373   0.62352943  0.9843137 ]\n",
            "   [ 0.3803922   0.5529412   0.9529412 ]]]\n",
            "\n",
            "\n",
            " [[[-0.30196077 -0.6313726  -0.827451  ]\n",
            "   [-0.30196077 -0.6313726  -0.827451  ]\n",
            "   [-0.29411763 -0.62352943 -0.81960785]\n",
            "   ...\n",
            "   [-0.372549   -0.6392157  -0.8352941 ]\n",
            "   [-0.35686272 -0.6392157  -0.827451  ]\n",
            "   [-0.35686272 -0.6392157  -0.827451  ]]\n",
            "\n",
            "  [[-0.30196077 -0.6313726  -0.827451  ]\n",
            "   [-0.30196077 -0.6313726  -0.827451  ]\n",
            "   [-0.29411763 -0.62352943 -0.81960785]\n",
            "   ...\n",
            "   [-0.372549   -0.6392157  -0.8352941 ]\n",
            "   [-0.36470586 -0.64705884 -0.8352941 ]\n",
            "   [-0.36470586 -0.64705884 -0.8352941 ]]\n",
            "\n",
            "  [[-0.30196077 -0.6313726  -0.827451  ]\n",
            "   [-0.30196077 -0.6313726  -0.827451  ]\n",
            "   [-0.29411763 -0.62352943 -0.81960785]\n",
            "   ...\n",
            "   [-0.372549   -0.6392157  -0.8352941 ]\n",
            "   [-0.35686272 -0.6392157  -0.827451  ]\n",
            "   [-0.35686272 -0.6392157  -0.827451  ]]\n",
            "\n",
            "  ...\n",
            "\n",
            "  [[-0.47450978 -0.7176471  -0.8509804 ]\n",
            "   [-0.46666664 -0.7254902  -0.85882354]\n",
            "   [-0.4823529  -0.7411765  -0.88235295]\n",
            "   ...\n",
            "   [-0.84313726 -0.84313726 -0.8745098 ]\n",
            "   [-0.90588236 -0.90588236 -0.92156863]\n",
            "   [-0.94509804 -0.94509804 -0.9607843 ]]\n",
            "\n",
            "  [[-0.47450978 -0.7176471  -0.8509804 ]\n",
            "   [-0.46666664 -0.7254902  -0.85882354]\n",
            "   [-0.47450978 -0.73333335 -0.88235295]\n",
            "   ...\n",
            "   [-0.827451   -0.8352941  -0.85882354]\n",
            "   [-0.8901961  -0.8901961  -0.90588236]\n",
            "   [-0.9372549  -0.9372549  -0.9529412 ]]\n",
            "\n",
            "  [[-0.4588235  -0.7019608  -0.8352941 ]\n",
            "   [-0.45098037 -0.70980394 -0.84313726]\n",
            "   [-0.4588235  -0.70980394 -0.85882354]\n",
            "   ...\n",
            "   [-0.8509804  -0.85882354 -0.8901961 ]\n",
            "   [-0.90588236 -0.90588236 -0.92156863]\n",
            "   [-0.9372549  -0.9372549  -0.9529412 ]]]\n",
            "\n",
            "\n",
            " ...\n",
            "\n",
            "\n",
            " [[[ 0.00392163  0.10588241  0.17647064]\n",
            "   [-0.01176471  0.09019613  0.16078436]\n",
            "   [-0.01176471  0.09019613  0.16078436]\n",
            "   ...\n",
            "   [ 0.04313731  0.13725495  0.26274514]\n",
            "   [ 0.04313731  0.13725495  0.26274514]\n",
            "   [ 0.05098045  0.14509809  0.27058828]]\n",
            "\n",
            "  [[-0.01960784  0.082353    0.15294123]\n",
            "   [-0.00392157  0.09803927  0.1686275 ]\n",
            "   [-0.01176471  0.09803927  0.1686275 ]\n",
            "   ...\n",
            "   [ 0.02745104  0.12156868  0.254902  ]\n",
            "   [ 0.04313731  0.12941182  0.26274514]\n",
            "   [ 0.04313731  0.12941182  0.26274514]]\n",
            "\n",
            "  [[ 0.00392163  0.09803927  0.1686275 ]\n",
            "   [ 0.0196079   0.11372554  0.18431377]\n",
            "   [ 0.0196079   0.10588241  0.18431377]\n",
            "   ...\n",
            "   [ 0.05882359  0.15294123  0.27058828]\n",
            "   [ 0.05882359  0.14509809  0.30196083]\n",
            "   [ 0.06666672  0.14509809  0.30196083]]\n",
            "\n",
            "  ...\n",
            "\n",
            "  [[-0.56078434 -0.40392154 -0.29411763]\n",
            "   [-0.6        -0.4588235  -0.38823527]\n",
            "   [-0.7490196  -0.6313726  -0.60784316]\n",
            "   ...\n",
            "   [-0.34117645 -0.01176471  0.6313726 ]\n",
            "   [-0.5686275  -0.2862745   0.45098042]\n",
            "   [-0.5529412  -0.27058822  0.48235297]]\n",
            "\n",
            "  [[-0.7254902  -0.5294118  -0.36470586]\n",
            "   [-0.6784314  -0.4980392  -0.3490196 ]\n",
            "   [-0.75686276 -0.5921569  -0.47450978]\n",
            "   ...\n",
            "   [-0.44313723 -0.35686272  0.03529418]\n",
            "   [-0.30196077 -0.1607843   0.3803922 ]\n",
            "   [-0.372549   -0.16862744  0.49803925]]\n",
            "\n",
            "  [[-0.7254902  -0.5372549  -0.34117645]\n",
            "   [-0.7176471  -0.5294118  -0.34117645]\n",
            "   [-0.7254902  -0.54509807 -0.38823527]\n",
            "   ...\n",
            "   [-0.92156863 -0.85882354 -0.5529412 ]\n",
            "   [-0.5921569  -0.47450978  0.05098045]\n",
            "   [-0.14509803  0.05882359  0.7019608 ]]]\n",
            "\n",
            "\n",
            " [[[-0.01960784  0.05882359  0.13725495]\n",
            "   [ 0.01176476  0.09019613  0.16078436]\n",
            "   [ 0.0196079   0.09803927  0.17647064]\n",
            "   ...\n",
            "   [ 0.10588241  0.12941182  0.26274514]\n",
            "   [ 0.06666672  0.15294123  0.26274514]\n",
            "   [ 0.04313731  0.14509809  0.254902  ]]\n",
            "\n",
            "  [[ 0.0196079   0.09803927  0.17647064]\n",
            "   [ 0.02745104  0.10588241  0.18431377]\n",
            "   [ 0.0196079   0.09803927  0.17647064]\n",
            "   ...\n",
            "   [ 0.09803927  0.12941182  0.254902  ]\n",
            "   [ 0.06666672  0.16078436  0.26274514]\n",
            "   [ 0.04313731  0.14509809  0.254902  ]]\n",
            "\n",
            "  [[ 0.03529418  0.11372554  0.18431377]\n",
            "   [ 0.01176476  0.09019613  0.1686275 ]\n",
            "   [ 0.01176476  0.09019613  0.16078436]\n",
            "   ...\n",
            "   [ 0.09019613  0.14509809  0.27058828]\n",
            "   [ 0.04313731  0.13725495  0.24705887]\n",
            "   [ 0.02745104  0.12156868  0.2313726 ]]\n",
            "\n",
            "  ...\n",
            "\n",
            "  [[-0.60784316 -0.34117645 -0.23137254]\n",
            "   [-0.6313726  -0.40392154 -0.34117645]\n",
            "   [-0.78039217 -0.60784316 -0.5921569 ]\n",
            "   ...\n",
            "   [-0.90588236 -0.90588236 -0.5372549 ]\n",
            "   [-0.88235295 -0.6156863  -0.31764704]\n",
            "   [-0.56078434 -0.25490195  0.07450986]]\n",
            "\n",
            "  [[-0.7411765  -0.47450978 -0.32549018]\n",
            "   [-0.6862745  -0.4588235  -0.30196077]\n",
            "   [-0.79607844 -0.6        -0.44313723]\n",
            "   ...\n",
            "   [-0.8901961  -0.8745098  -0.75686276]\n",
            "   [-0.94509804 -0.85882354 -0.7019608 ]\n",
            "   [-0.8666667  -0.75686276 -0.5764706 ]]\n",
            "\n",
            "  [[-0.75686276 -0.4980392  -0.3098039 ]\n",
            "   [-0.69411767 -0.47450978 -0.27843136]\n",
            "   [-0.6784314  -0.4823529  -0.29411763]\n",
            "   ...\n",
            "   [-0.88235295 -0.8666667  -0.7647059 ]\n",
            "   [-0.90588236 -0.827451   -0.6862745 ]\n",
            "   [-0.9137255  -0.827451   -0.67058825]]]\n",
            "\n",
            "\n",
            " [[[-0.03529412  0.09019613  0.15294123]\n",
            "   [-0.05882353  0.06666672  0.13725495]\n",
            "   [-0.04313725  0.082353    0.14509809]\n",
            "   ...\n",
            "   [ 0.05098045  0.14509809  0.22352946]\n",
            "   [ 0.09019613  0.13725495  0.2313726 ]\n",
            "   [ 0.082353    0.12941182  0.22352946]]\n",
            "\n",
            "  [[-0.01176471  0.09019613  0.16078436]\n",
            "   [-0.02745098  0.07450986  0.15294123]\n",
            "   [-0.01960784  0.082353    0.15294123]\n",
            "   ...\n",
            "   [ 0.06666672  0.16078436  0.254902  ]\n",
            "   [ 0.07450986  0.12941182  0.23921573]\n",
            "   [ 0.07450986  0.12156868  0.2313726 ]]\n",
            "\n",
            "  [[ 0.01176476  0.09019613  0.1686275 ]\n",
            "   [ 0.01176476  0.09019613  0.1686275 ]\n",
            "   [ 0.00392163  0.082353    0.16078436]\n",
            "   ...\n",
            "   [ 0.05882359  0.15294123  0.27843142]\n",
            "   [ 0.10588241  0.15294123  0.26274514]\n",
            "   [ 0.09803927  0.14509809  0.254902  ]]\n",
            "\n",
            "  ...\n",
            "\n",
            "  [[-0.6313726  -0.40392154 -0.372549  ]\n",
            "   [-0.6627451  -0.45098037 -0.42745095]\n",
            "   [-0.81960785 -0.6627451  -0.64705884]\n",
            "   ...\n",
            "   [-0.3490196  -0.11372548  0.60784316]\n",
            "   [-0.56078434 -0.3098039   0.4666667 ]\n",
            "   [-0.52156866 -0.27058822  0.5137255 ]]\n",
            "\n",
            "  [[-0.7254902  -0.5529412  -0.41176468]\n",
            "   [-0.70980394 -0.54509807 -0.38823527]\n",
            "   [-0.78039217 -0.62352943 -0.46666664]\n",
            "   ...\n",
            "   [-0.3098039  -0.05098039  0.70980394]\n",
            "   [-0.4352941  -0.18431371  0.64705884]\n",
            "   [-0.41176468 -0.14509803  0.6862745 ]]\n",
            "\n",
            "  [[-0.70980394 -0.54509807 -0.30196077]\n",
            "   [-0.6784314  -0.5294118  -0.27058822]\n",
            "   [-0.69411767 -0.54509807 -0.27843136]\n",
            "   ...\n",
            "   [-0.41960782 -0.17647058  0.5764706 ]\n",
            "   [-0.4588235  -0.19999999  0.62352943]\n",
            "   [-0.20784312  0.05882359  0.90588236]]]]\n"
          ],
          "name": "stdout"
        }
      ]
    },
    {
      "cell_type": "code",
      "metadata": {
        "id": "t8EgTXZ4E3bw"
      },
      "source": [
        "# Batch and shuffle the data\n",
        "train_dataset = tf.data.Dataset.from_tensor_slices(training_data) \\\n",
        "    .shuffle(BUFFER_SIZE).batch(BATCH_SIZE)"
      ],
      "execution_count": 7,
      "outputs": []
    },
    {
      "cell_type": "markdown",
      "metadata": {
        "id": "O7lWcdcE4qwQ"
      },
      "source": [
        "## GAN's Functions"
      ]
    },
    {
      "cell_type": "code",
      "metadata": {
        "id": "KNlroD4WE5SB"
      },
      "source": [
        "def build_generator(seed_size, channels):\n",
        "    model = Sequential()\n",
        "\n",
        "    model.add(Dense(4*4*256,activation=\"relu\",input_dim=seed_size))\n",
        "    model.add(Reshape((4,4,256)))\n",
        "\n",
        "    model.add(UpSampling2D())\n",
        "    model.add(Conv2D(256,kernel_size=3,padding=\"same\"))\n",
        "    model.add(BatchNormalization(momentum=0.8))\n",
        "    model.add(Activation(\"relu\"))\n",
        "\n",
        "    model.add(UpSampling2D())\n",
        "    model.add(Conv2D(256,kernel_size=3,padding=\"same\"))\n",
        "    model.add(BatchNormalization(momentum=0.8))\n",
        "    model.add(Activation(\"relu\"))\n",
        "   \n",
        "    # Output resolution, additional upsampling\n",
        "    model.add(UpSampling2D())\n",
        "    model.add(Conv2D(128,kernel_size=3,padding=\"same\"))\n",
        "    model.add(BatchNormalization(momentum=0.8))\n",
        "    model.add(Activation(\"relu\"))\n",
        "\n",
        "    if GENERATE_RES>1:\n",
        "      model.add(UpSampling2D(size=(GENERATE_RES,GENERATE_RES)))\n",
        "      model.add(Conv2D(128,kernel_size=3,padding=\"same\"))\n",
        "      model.add(BatchNormalization(momentum=0.8))\n",
        "      model.add(Activation(\"relu\"))\n",
        "\n",
        "    # Final CNN layer\n",
        "    model.add(Conv2D(channels,kernel_size=3,padding=\"same\"))\n",
        "    model.add(Activation(\"tanh\"))\n",
        "\n",
        "    return model\n",
        "\n",
        "\n",
        "def build_discriminator(image_shape):\n",
        "    model = Sequential()\n",
        "\n",
        "    model.add(Conv2D(32, kernel_size=3, strides=2, input_shape=image_shape, \n",
        "                     padding=\"same\"))\n",
        "    model.add(LeakyReLU(alpha=0.2))\n",
        "\n",
        "    model.add(Dropout(0.25))\n",
        "    model.add(Conv2D(64, kernel_size=3, strides=2, padding=\"same\"))\n",
        "    model.add(ZeroPadding2D(padding=((0,1),(0,1))))\n",
        "    model.add(BatchNormalization(momentum=0.8))\n",
        "    model.add(LeakyReLU(alpha=0.2))\n",
        "\n",
        "    model.add(Dropout(0.25))\n",
        "    model.add(Conv2D(128, kernel_size=3, strides=2, padding=\"same\"))\n",
        "    model.add(BatchNormalization(momentum=0.8))\n",
        "    model.add(LeakyReLU(alpha=0.2))\n",
        "\n",
        "    model.add(Dropout(0.25))\n",
        "    model.add(Conv2D(256, kernel_size=3, strides=1, padding=\"same\"))\n",
        "    model.add(BatchNormalization(momentum=0.8))\n",
        "    model.add(LeakyReLU(alpha=0.2))\n",
        "\n",
        "    model.add(Dropout(0.25))\n",
        "    model.add(Conv2D(512, kernel_size=3, strides=1, padding=\"same\"))\n",
        "    model.add(BatchNormalization(momentum=0.8))\n",
        "    model.add(LeakyReLU(alpha=0.2))\n",
        "\n",
        "    model.add(Dropout(0.25))\n",
        "    model.add(Flatten())\n",
        "    model.add(Dense(1, activation='sigmoid'))\n",
        "\n",
        "    return model"
      ],
      "execution_count": 8,
      "outputs": []
    },
    {
      "cell_type": "code",
      "metadata": {
        "id": "TBm5Sc-LFDA4"
      },
      "source": [
        "def save_images(cnt,noise):\n",
        "  image_array = np.full(( \n",
        "      PREVIEW_MARGIN + (PREVIEW_ROWS * (GENERATE_SQUARE+PREVIEW_MARGIN)), \n",
        "      PREVIEW_MARGIN + (PREVIEW_COLS * (GENERATE_SQUARE+PREVIEW_MARGIN)), IMAGE_CHANNELS), \n",
        "      255, dtype=np.uint8)\n",
        "  \n",
        "  generated_images = generator.predict(noise)\n",
        "\n",
        "  generated_images = 0.5 * generated_images + 0.5\n",
        "\n",
        "  image_count = 0\n",
        "  for row in range(PREVIEW_ROWS):\n",
        "      for col in range(PREVIEW_COLS):\n",
        "        r = row * (GENERATE_SQUARE+16) + PREVIEW_MARGIN\n",
        "        c = col * (GENERATE_SQUARE+16) + PREVIEW_MARGIN\n",
        "        image_array[r:r+GENERATE_SQUARE,c:c+GENERATE_SQUARE] \\\n",
        "            = generated_images[image_count] * 255\n",
        "        image_count += 1\n",
        "\n",
        "          \n",
        "  output_path = os.path.join(DATA_PATH,'output')\n",
        "  if not os.path.exists(output_path):\n",
        "    os.makedirs(output_path)\n",
        "  \n",
        "  filename = os.path.join(output_path,f\"train-{cnt}.png\")\n",
        "  im = Image.fromarray(image_array)\n",
        "  im.save(filename)"
      ],
      "execution_count": 9,
      "outputs": []
    },
    {
      "cell_type": "code",
      "metadata": {
        "colab": {
          "base_uri": "https://localhost:8080/",
          "height": 285
        },
        "id": "5fdx9LkbFF7X",
        "outputId": "fee171a4-b1ed-4193-931b-967288bd4603"
      },
      "source": [
        "generator = build_generator(SEED_SIZE, IMAGE_CHANNELS)\n",
        "\n",
        "noise = tf.random.normal([1, SEED_SIZE])\n",
        "generated_image = generator(noise, training=False)\n",
        "\n",
        "plt.imshow(generated_image[0, :, :, 0])"
      ],
      "execution_count": 10,
      "outputs": [
        {
          "output_type": "execute_result",
          "data": {
            "text/plain": [
              "<matplotlib.image.AxesImage at 0x7ff6762d5f90>"
            ]
          },
          "metadata": {},
          "execution_count": 10
        },
        {
          "output_type": "display_data",
          "data": {
            "image/png": "[encoded data removed]",
            "text/plain": [
              "<Figure size 432x288 with 1 Axes>"
            ]
          },
          "metadata": {
            "needs_background": "light"
          }
        }
      ]
    },
    {
      "cell_type": "code",
      "metadata": {
        "colab": {
          "base_uri": "https://localhost:8080/"
        },
        "id": "KezFDLMVFHhQ",
        "outputId": "ccb5c2d1-7e92-4f86-96f6-1bddf00ed6fa"
      },
      "source": [
        "image_shape = (GENERATE_SQUARE,GENERATE_SQUARE,IMAGE_CHANNELS)\n",
        "\n",
        "discriminator = build_discriminator(image_shape)\n",
        "decision = discriminator(generated_image)\n",
        "print (decision)"
      ],
      "execution_count": 11,
      "outputs": [
        {
          "output_type": "stream",
          "text": [
            "tf.Tensor([[0.4996458]], shape=(1, 1), dtype=float32)\n"
          ],
          "name": "stdout"
        }
      ]
    },
    {
      "cell_type": "code",
      "metadata": {
        "id": "7pCnszteFLOQ"
      },
      "source": [
        "# This method returns a helper function to compute cross entropy loss\n",
        "cross_entropy = tf.keras.losses.BinaryCrossentropy()\n",
        "\n",
        "def discriminator_loss(real_output, fake_output):\n",
        "    real_loss = cross_entropy(tf.ones_like(real_output), real_output)\n",
        "    fake_loss = cross_entropy(tf.zeros_like(fake_output), fake_output)\n",
        "    total_loss = real_loss + fake_loss\n",
        "    return total_loss\n",
        "\n",
        "def generator_loss(fake_output):\n",
        "    return cross_entropy(tf.ones_like(fake_output), fake_output)"
      ],
      "execution_count": 12,
      "outputs": []
    },
    {
      "cell_type": "code",
      "metadata": {
        "id": "wWHecqF4FNO4"
      },
      "source": [
        "generator_optimizer = tf.keras.optimizers.Adam(1.5e-4,0.5)\n",
        "discriminator_optimizer = tf.keras.optimizers.Adam(1.5e-4,0.5)"
      ],
      "execution_count": 13,
      "outputs": []
    },
    {
      "cell_type": "code",
      "metadata": {
        "id": "Zq6d8mXXFQmo"
      },
      "source": [
        "# Notice the use of `tf.function`\n",
        "# This annotation causes the function to be \"compiled\".\n",
        "@tf.function\n",
        "def train_step(images):\n",
        "  seed = tf.random.normal([BATCH_SIZE, SEED_SIZE])\n",
        "\n",
        "  with tf.GradientTape() as gen_tape, tf.GradientTape() as disc_tape:\n",
        "    generated_images = generator(seed, training=True)\n",
        "\n",
        "    real_output = discriminator(images, training=True)\n",
        "    fake_output = discriminator(generated_images, training=True)\n",
        "\n",
        "    gen_loss = generator_loss(fake_output)\n",
        "    disc_loss = discriminator_loss(real_output, fake_output)\n",
        "    \n",
        "\n",
        "    gradients_of_generator = gen_tape.gradient(\\\n",
        "        gen_loss, generator.trainable_variables)\n",
        "    gradients_of_discriminator = disc_tape.gradient(\\\n",
        "        disc_loss, discriminator.trainable_variables)\n",
        "\n",
        "    generator_optimizer.apply_gradients(zip(\n",
        "        gradients_of_generator, generator.trainable_variables))\n",
        "    discriminator_optimizer.apply_gradients(zip(\n",
        "        gradients_of_discriminator, \n",
        "        discriminator.trainable_variables))\n",
        "  return gen_loss,disc_loss"
      ],
      "execution_count": 14,
      "outputs": []
    },
    {
      "cell_type": "code",
      "metadata": {
        "id": "RDZqriXWFTvK"
      },
      "source": [
        "def train(dataset, epochs):\n",
        "  fixed_seed = np.random.normal(0, 1, (PREVIEW_ROWS * PREVIEW_COLS, \n",
        "                                       SEED_SIZE))\n",
        "  start = time.time()\n",
        "\n",
        "  for epoch in range(epochs):\n",
        "    epoch_start = time.time()\n",
        "\n",
        "    gen_loss_list = []\n",
        "    disc_loss_list = []\n",
        "\n",
        "    for image_batch in dataset:\n",
        "      t = train_step(image_batch)\n",
        "      gen_loss_list.append(t[0])\n",
        "      disc_loss_list.append(t[1])\n",
        "\n",
        "    g_loss = sum(gen_loss_list) / len(gen_loss_list)\n",
        "    d_loss = sum(disc_loss_list) / len(disc_loss_list)\n",
        "\n",
        "    epoch_elapsed = time.time()-epoch_start\n",
        "    print (f'Epoch {epoch+1}, gen loss={g_loss},disc loss={d_loss},'\\\n",
        "           ' {hms_string(epoch_elapsed)}')\n",
        "    save_images(epoch,fixed_seed)\n",
        "\n",
        "  elapsed = time.time()-start\n",
        "  print (f'Training time: {hms_string(elapsed)}')"
      ],
      "execution_count": 15,
      "outputs": []
    },
    {
      "cell_type": "markdown",
      "metadata": {
        "id": "d_Q6NDw_4vmN"
      },
      "source": [
        "## Final training\n"
      ]
    },
    {
      "cell_type": "code",
      "metadata": {
        "colab": {
          "base_uri": "https://localhost:8080/"
        },
        "id": "vMsjzhp8FXMg",
        "outputId": "7314b3b9-4344-457c-eda8-312f78f0bc17"
      },
      "source": [
        "train(train_dataset, EPOCHS)"
      ],
      "execution_count": null,
      "outputs": [
        {
          "output_type": "stream",
          "text": [
            "Epoch 1, gen loss=2.5273032188415527,disc loss=1.0071760416030884, {hms_string(epoch_elapsed)}\n",
            "Epoch 2, gen loss=3.0911965370178223,disc loss=0.8376038074493408, {hms_string(epoch_elapsed)}\n",
            "Epoch 3, gen loss=3.731610059738159,disc loss=0.7384071946144104, {hms_string(epoch_elapsed)}\n",
            "Epoch 4, gen loss=3.8854787349700928,disc loss=0.6525624394416809, {hms_string(epoch_elapsed)}\n",
            "Epoch 5, gen loss=3.3095884323120117,disc loss=0.876103937625885, {hms_string(epoch_elapsed)}\n",
            "Epoch 6, gen loss=3.001610517501831,disc loss=0.8992339372634888, {hms_string(epoch_elapsed)}\n",
            "Epoch 7, gen loss=2.8589677810668945,disc loss=0.9195957779884338, {hms_string(epoch_elapsed)}\n",
            "Epoch 8, gen loss=3.043588399887085,disc loss=0.7912202477455139, {hms_string(epoch_elapsed)}\n",
            "Epoch 9, gen loss=2.8976528644561768,disc loss=0.8404591083526611, {hms_string(epoch_elapsed)}\n",
            "Epoch 10, gen loss=2.84611177444458,disc loss=0.8340610265731812, {hms_string(epoch_elapsed)}\n",
            "Epoch 11, gen loss=2.877106189727783,disc loss=0.7948294878005981, {hms_string(epoch_elapsed)}\n",
            "Epoch 12, gen loss=2.911043882369995,disc loss=0.7788582444190979, {hms_string(epoch_elapsed)}\n"
          ],
          "name": "stdout"
        }
      ]
    }
  ]
}